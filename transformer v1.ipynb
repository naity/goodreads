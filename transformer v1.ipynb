{
 "cells": [
  {
   "cell_type": "code",
   "execution_count": null,
   "id": "eeb0cdfb-7baf-429b-ba31-f41bc5f0536e",
   "metadata": {},
   "outputs": [],
   "source": [
    "import pandas as pd\n",
    "import numpy as np\n",
    "import evaluate\n",
    "\n",
    "from sklearn.model_selection import train_test_split\n",
    "from datasets import Dataset, DatasetDict\n",
    "from transformers import AutoTokenizer, AutoModelForSequenceClassification, \\\n",
    "    TrainingArguments, Trainer"
   ]
  },
  {
   "cell_type": "code",
   "execution_count": null,
   "id": "46c69ab5-37b2-4041-8a9f-1b187efaef3b",
   "metadata": {},
   "outputs": [],
   "source": [
    "train = pd.read_csv(\"data/goodreads_train.csv\")\n",
    "train.head()"
   ]
  },
  {
   "cell_type": "code",
   "execution_count": null,
   "id": "05ba696b-d150-47c9-9926-3d7b4cd3f718",
   "metadata": {},
   "outputs": [],
   "source": [
    "data = train.loc[:, [\"review_text\", \"rating\"]]"
   ]
  },
  {
   "cell_type": "code",
   "execution_count": null,
   "id": "5a2da146-8ebd-4fe4-b338-c544f4e81816",
   "metadata": {},
   "outputs": [],
   "source": [
    "# create a validation set\n",
    "train_df, valid_df = train_test_split(data, test_size=0.1, random_state=0)\n",
    "print(train_df.shape, valid_df.shape)"
   ]
  },
  {
   "cell_type": "code",
   "execution_count": null,
   "id": "2138cd83-9ef6-4d51-aefc-8cb4823ae04e",
   "metadata": {},
   "outputs": [],
   "source": [
    "train_ds = Dataset.from_pandas(train_df)\n",
    "valid_ds = Dataset.from_pandas(valid_df)"
   ]
  },
  {
   "cell_type": "code",
   "execution_count": null,
   "id": "d145d9dc-37b2-4e41-a59b-b23110bcf889",
   "metadata": {},
   "outputs": [],
   "source": [
    "dataset = DatasetDict()\n",
    "dataset[\"train\"] = train_ds\n",
    "dataset[\"valid\"] = valid_ds\n",
    "\n",
    "# target column should be named label\n",
    "dataset = dataset.rename_columns({\"rating\": \"label\"})\n",
    "dataset"
   ]
  },
  {
   "cell_type": "code",
   "execution_count": null,
   "id": "b8160670-8ff8-43ca-8191-f19e84398b5b",
   "metadata": {},
   "outputs": [],
   "source": [
    "tokenizer = AutoTokenizer.from_pretrained(\"bert-base-cased\")"
   ]
  },
  {
   "cell_type": "code",
   "execution_count": null,
   "id": "ca8e25ed-5b6e-413e-b941-3a57b9bd4a04",
   "metadata": {},
   "outputs": [],
   "source": [
    "def tokenize_func(dataset, col=\"review_text\"):\n",
    "    return tokenizer(dataset[col], padding=\"max_length\", truncation=True)"
   ]
  },
  {
   "cell_type": "code",
   "execution_count": null,
   "id": "4a2e7d17-1155-45dc-aa62-a786a887fc69",
   "metadata": {},
   "outputs": [],
   "source": [
    "tokenized_datasets = dataset.map(tokenize_func, batched=True)\n",
    "tokenized_datasets"
   ]
  },
  {
   "cell_type": "code",
   "execution_count": null,
   "id": "b7df7cb1-1583-45d5-921f-910096b14d1b",
   "metadata": {},
   "outputs": [],
   "source": [
    "model = AutoModelForSequenceClassification.from_pretrained(\n",
    "    \"bert-base-cased\", num_labels=6)                                                       "
   ]
  },
  {
   "cell_type": "code",
   "execution_count": null,
   "id": "209a935f-ac7d-47ea-8ba8-62ae3ba6a80c",
   "metadata": {},
   "outputs": [],
   "source": [
    "metric = evaluate.load(\"accuracy\")"
   ]
  },
  {
   "cell_type": "code",
   "execution_count": null,
   "id": "c0cf96a2-0563-49f8-a9ae-eea4ceab10e6",
   "metadata": {},
   "outputs": [],
   "source": [
    "def compute_metrics(eval_pred):\n",
    "    logits, labels = eval_pred\n",
    "    predictions = np.argmax(logits, axis=-1)\n",
    "    return metric.compute(predictions=predictions,\n",
    "                          references=labels)"
   ]
  },
  {
   "cell_type": "code",
   "execution_count": null,
   "id": "5d604a05-fe7f-4113-b435-9bfcef9f124a",
   "metadata": {},
   "outputs": [],
   "source": [
    "training_args = TrainingArguments(output_dir=\"transformer_trainer\",\n",
    "                                 evaluation_strategy=\"epoch\",\n",
    "                                 per_device_train_batch_size=24,\n",
    "                                 per_gpu_eval_batch_size=24)"
   ]
  },
  {
   "cell_type": "code",
   "execution_count": null,
   "id": "b8b1f26a-cbc0-4782-834a-d21d171c1a1a",
   "metadata": {},
   "outputs": [],
   "source": [
    "trainer = Trainer(\n",
    "    model=model,\n",
    "    args=training_args,\n",
    "    train_dataset=tokenized_datasets[\"train\"],\n",
    "    eval_dataset=tokenized_datasets[\"valid\"],\n",
    "    compute_metrics=compute_metrics,\n",
    ")"
   ]
  },
  {
   "cell_type": "code",
   "execution_count": null,
   "id": "1204cc8f-c77c-4269-a2df-5cca9bc8a6e0",
   "metadata": {},
   "outputs": [],
   "source": [
    "trainer.train()"
   ]
  },
  {
   "cell_type": "code",
   "execution_count": null,
   "id": "06455858-3bd9-4178-a7ae-931e2bb310e6",
   "metadata": {},
   "outputs": [],
   "source": []
  }
 ],
 "metadata": {
  "kernelspec": {
   "display_name": "Python 3 (ipykernel)",
   "language": "python",
   "name": "python3"
  },
  "language_info": {
   "codemirror_mode": {
    "name": "ipython",
    "version": 3
   },
   "file_extension": ".py",
   "mimetype": "text/x-python",
   "name": "python",
   "nbconvert_exporter": "python",
   "pygments_lexer": "ipython3",
   "version": "3.9.15"
  }
 },
 "nbformat": 4,
 "nbformat_minor": 5
}
