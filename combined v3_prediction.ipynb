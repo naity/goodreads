{
 "cells": [
  {
   "cell_type": "code",
   "execution_count": 1,
   "id": "eeb0cdfb-7baf-429b-ba31-f41bc5f0536e",
   "metadata": {},
   "outputs": [],
   "source": [
    "import pandas as pd\n",
    "import numpy as np\n",
    "import torch\n",
    "import evaluate\n",
    "import joblib\n",
    "\n",
    "from tqdm.auto import tqdm\n",
    "from torch import nn\n",
    "from torch.optim import AdamW\n",
    "from torch.utils.data import Dataset, DataLoader\n",
    "from torch.nn.functional import cross_entropy\n",
    "from sklearn.preprocessing import OrdinalEncoder\n",
    "from sklearn.model_selection import train_test_split\n",
    "from accelerate import Accelerator, notebook_launcher\n",
    "from accelerate.utils import set_seed\n",
    "from datasets import Dataset, DatasetDict\n",
    "from transformers import AutoTokenizer, AutoModel, AutoModelForSequenceClassification, \\\n",
    "    TrainingArguments, Trainer, get_scheduler, pipeline\n",
    "from transformers.pipelines.pt_utils import KeyDataset\n",
    "from huggingface_hub import PyTorchModelHubMixin\n",
    "\n",
    "np.random.seed(0) \n",
    "torch.manual_seed(0)\n",
    "\n",
    "import warnings\n",
    "warnings.filterwarnings(\"ignore\")\n",
    "\n",
    "device = torch.device(\"cuda\") if torch.cuda.is_available() else torch.device(\"cpu\")"
   ]
  },
  {
   "cell_type": "code",
   "execution_count": 2,
   "id": "46c69ab5-37b2-4041-8a9f-1b187efaef3b",
   "metadata": {},
   "outputs": [
    {
     "data": {
      "text/html": [
       "<div>\n",
       "<style scoped>\n",
       "    .dataframe tbody tr th:only-of-type {\n",
       "        vertical-align: middle;\n",
       "    }\n",
       "\n",
       "    .dataframe tbody tr th {\n",
       "        vertical-align: top;\n",
       "    }\n",
       "\n",
       "    .dataframe thead th {\n",
       "        text-align: right;\n",
       "    }\n",
       "</style>\n",
       "<table border=\"1\" class=\"dataframe\">\n",
       "  <thead>\n",
       "    <tr style=\"text-align: right;\">\n",
       "      <th></th>\n",
       "      <th>user_id</th>\n",
       "      <th>book_id</th>\n",
       "      <th>review_id</th>\n",
       "      <th>review_text</th>\n",
       "      <th>date_added</th>\n",
       "      <th>date_updated</th>\n",
       "      <th>read_at</th>\n",
       "      <th>started_at</th>\n",
       "      <th>n_votes</th>\n",
       "      <th>n_comments</th>\n",
       "    </tr>\n",
       "  </thead>\n",
       "  <tbody>\n",
       "    <tr>\n",
       "      <th>0</th>\n",
       "      <td>b9450d1c1f97f891c392b1105959b56e</td>\n",
       "      <td>7092507</td>\n",
       "      <td>5c4df7e70e9b438c761f07a4620ccb7c</td>\n",
       "      <td>** spoiler alert ** \\n This is definitely one ...</td>\n",
       "      <td>Sat Nov 10 06:06:13 -0800 2012</td>\n",
       "      <td>Sun Nov 11 05:38:36 -0800 2012</td>\n",
       "      <td>Sun Nov 11 05:38:36 -0800 2012</td>\n",
       "      <td>Sat Nov 10 00:00:00 -0800 2012</td>\n",
       "      <td>1</td>\n",
       "      <td>0</td>\n",
       "    </tr>\n",
       "    <tr>\n",
       "      <th>1</th>\n",
       "      <td>b9450d1c1f97f891c392b1105959b56e</td>\n",
       "      <td>5576654</td>\n",
       "      <td>8eaeaf13213eeb16ad879a2a2591bbe5</td>\n",
       "      <td>** spoiler alert ** \\n \"You are what you drink...</td>\n",
       "      <td>Fri Nov 09 21:55:16 -0800 2012</td>\n",
       "      <td>Sat Nov 10 05:41:49 -0800 2012</td>\n",
       "      <td>Sat Nov 10 05:41:49 -0800 2012</td>\n",
       "      <td>Fri Nov 09 00:00:00 -0800 2012</td>\n",
       "      <td>1</td>\n",
       "      <td>0</td>\n",
       "    </tr>\n",
       "    <tr>\n",
       "      <th>2</th>\n",
       "      <td>b9450d1c1f97f891c392b1105959b56e</td>\n",
       "      <td>15754052</td>\n",
       "      <td>dce649b733c153ba5363a0413cac988f</td>\n",
       "      <td>Roar is one of my favorite characters in Under...</td>\n",
       "      <td>Fri Nov 09 00:25:50 -0800 2012</td>\n",
       "      <td>Sat Nov 10 06:14:10 -0800 2012</td>\n",
       "      <td>Sat Nov 10 06:14:10 -0800 2012</td>\n",
       "      <td>Fri Nov 09 00:00:00 -0800 2012</td>\n",
       "      <td>0</td>\n",
       "      <td>0</td>\n",
       "    </tr>\n",
       "    <tr>\n",
       "      <th>3</th>\n",
       "      <td>b9450d1c1f97f891c392b1105959b56e</td>\n",
       "      <td>17020</td>\n",
       "      <td>8a46df0bb997269d6834f9437a4b0a77</td>\n",
       "      <td>** spoiler alert ** \\n If you feel like travel...</td>\n",
       "      <td>Thu Nov 01 00:28:39 -0700 2012</td>\n",
       "      <td>Sat Nov 03 11:35:22 -0700 2012</td>\n",
       "      <td>Sat Nov 03 11:35:22 -0700 2012</td>\n",
       "      <td>Thu Nov 01 00:00:00 -0700 2012</td>\n",
       "      <td>0</td>\n",
       "      <td>0</td>\n",
       "    </tr>\n",
       "    <tr>\n",
       "      <th>4</th>\n",
       "      <td>b9450d1c1f97f891c392b1105959b56e</td>\n",
       "      <td>12551082</td>\n",
       "      <td>d11d3091e22f1cf3cb865598de197599</td>\n",
       "      <td>3.5 stars \\n I read and enjoyed the first two ...</td>\n",
       "      <td>Thu Oct 18 00:57:00 -0700 2012</td>\n",
       "      <td>Mon Apr 01 23:00:51 -0700 2013</td>\n",
       "      <td>Sat Mar 30 00:00:00 -0700 2013</td>\n",
       "      <td>Fri Mar 29 00:00:00 -0700 2013</td>\n",
       "      <td>0</td>\n",
       "      <td>0</td>\n",
       "    </tr>\n",
       "  </tbody>\n",
       "</table>\n",
       "</div>"
      ],
      "text/plain": [
       "                            user_id   book_id  \\\n",
       "0  b9450d1c1f97f891c392b1105959b56e   7092507   \n",
       "1  b9450d1c1f97f891c392b1105959b56e   5576654   \n",
       "2  b9450d1c1f97f891c392b1105959b56e  15754052   \n",
       "3  b9450d1c1f97f891c392b1105959b56e     17020   \n",
       "4  b9450d1c1f97f891c392b1105959b56e  12551082   \n",
       "\n",
       "                          review_id  \\\n",
       "0  5c4df7e70e9b438c761f07a4620ccb7c   \n",
       "1  8eaeaf13213eeb16ad879a2a2591bbe5   \n",
       "2  dce649b733c153ba5363a0413cac988f   \n",
       "3  8a46df0bb997269d6834f9437a4b0a77   \n",
       "4  d11d3091e22f1cf3cb865598de197599   \n",
       "\n",
       "                                         review_text  \\\n",
       "0  ** spoiler alert ** \\n This is definitely one ...   \n",
       "1  ** spoiler alert ** \\n \"You are what you drink...   \n",
       "2  Roar is one of my favorite characters in Under...   \n",
       "3  ** spoiler alert ** \\n If you feel like travel...   \n",
       "4  3.5 stars \\n I read and enjoyed the first two ...   \n",
       "\n",
       "                       date_added                    date_updated  \\\n",
       "0  Sat Nov 10 06:06:13 -0800 2012  Sun Nov 11 05:38:36 -0800 2012   \n",
       "1  Fri Nov 09 21:55:16 -0800 2012  Sat Nov 10 05:41:49 -0800 2012   \n",
       "2  Fri Nov 09 00:25:50 -0800 2012  Sat Nov 10 06:14:10 -0800 2012   \n",
       "3  Thu Nov 01 00:28:39 -0700 2012  Sat Nov 03 11:35:22 -0700 2012   \n",
       "4  Thu Oct 18 00:57:00 -0700 2012  Mon Apr 01 23:00:51 -0700 2013   \n",
       "\n",
       "                          read_at                      started_at  n_votes  \\\n",
       "0  Sun Nov 11 05:38:36 -0800 2012  Sat Nov 10 00:00:00 -0800 2012        1   \n",
       "1  Sat Nov 10 05:41:49 -0800 2012  Fri Nov 09 00:00:00 -0800 2012        1   \n",
       "2  Sat Nov 10 06:14:10 -0800 2012  Fri Nov 09 00:00:00 -0800 2012        0   \n",
       "3  Sat Nov 03 11:35:22 -0700 2012  Thu Nov 01 00:00:00 -0700 2012        0   \n",
       "4  Sat Mar 30 00:00:00 -0700 2013  Fri Mar 29 00:00:00 -0700 2013        0   \n",
       "\n",
       "   n_comments  \n",
       "0           0  \n",
       "1           0  \n",
       "2           0  \n",
       "3           0  \n",
       "4           0  "
      ]
     },
     "execution_count": 2,
     "metadata": {},
     "output_type": "execute_result"
    }
   ],
   "source": [
    "test = pd.read_csv(\"data/goodreads_test.csv\")\n",
    "test.head()"
   ]
  },
  {
   "cell_type": "code",
   "execution_count": 3,
   "id": "05ba696b-d150-47c9-9926-3d7b4cd3f718",
   "metadata": {},
   "outputs": [
    {
     "data": {
      "text/html": [
       "<div>\n",
       "<style scoped>\n",
       "    .dataframe tbody tr th:only-of-type {\n",
       "        vertical-align: middle;\n",
       "    }\n",
       "\n",
       "    .dataframe tbody tr th {\n",
       "        vertical-align: top;\n",
       "    }\n",
       "\n",
       "    .dataframe thead th {\n",
       "        text-align: right;\n",
       "    }\n",
       "</style>\n",
       "<table border=\"1\" class=\"dataframe\">\n",
       "  <thead>\n",
       "    <tr style=\"text-align: right;\">\n",
       "      <th></th>\n",
       "      <th>user_id</th>\n",
       "      <th>book_id</th>\n",
       "      <th>review_text</th>\n",
       "    </tr>\n",
       "  </thead>\n",
       "  <tbody>\n",
       "    <tr>\n",
       "      <th>0</th>\n",
       "      <td>b9450d1c1f97f891c392b1105959b56e</td>\n",
       "      <td>7092507</td>\n",
       "      <td>** spoiler alert ** \\n This is definitely one ...</td>\n",
       "    </tr>\n",
       "    <tr>\n",
       "      <th>1</th>\n",
       "      <td>b9450d1c1f97f891c392b1105959b56e</td>\n",
       "      <td>5576654</td>\n",
       "      <td>** spoiler alert ** \\n \"You are what you drink...</td>\n",
       "    </tr>\n",
       "    <tr>\n",
       "      <th>2</th>\n",
       "      <td>b9450d1c1f97f891c392b1105959b56e</td>\n",
       "      <td>15754052</td>\n",
       "      <td>Roar is one of my favorite characters in Under...</td>\n",
       "    </tr>\n",
       "    <tr>\n",
       "      <th>3</th>\n",
       "      <td>b9450d1c1f97f891c392b1105959b56e</td>\n",
       "      <td>17020</td>\n",
       "      <td>** spoiler alert ** \\n If you feel like travel...</td>\n",
       "    </tr>\n",
       "    <tr>\n",
       "      <th>4</th>\n",
       "      <td>b9450d1c1f97f891c392b1105959b56e</td>\n",
       "      <td>12551082</td>\n",
       "      <td>3.5 stars \\n I read and enjoyed the first two ...</td>\n",
       "    </tr>\n",
       "  </tbody>\n",
       "</table>\n",
       "</div>"
      ],
      "text/plain": [
       "                            user_id   book_id  \\\n",
       "0  b9450d1c1f97f891c392b1105959b56e   7092507   \n",
       "1  b9450d1c1f97f891c392b1105959b56e   5576654   \n",
       "2  b9450d1c1f97f891c392b1105959b56e  15754052   \n",
       "3  b9450d1c1f97f891c392b1105959b56e     17020   \n",
       "4  b9450d1c1f97f891c392b1105959b56e  12551082   \n",
       "\n",
       "                                         review_text  \n",
       "0  ** spoiler alert ** \\n This is definitely one ...  \n",
       "1  ** spoiler alert ** \\n \"You are what you drink...  \n",
       "2  Roar is one of my favorite characters in Under...  \n",
       "3  ** spoiler alert ** \\n If you feel like travel...  \n",
       "4  3.5 stars \\n I read and enjoyed the first two ...  "
      ]
     },
     "execution_count": 3,
     "metadata": {},
     "output_type": "execute_result"
    }
   ],
   "source": [
    "test_df = test.loc[:, [\"user_id\", \"book_id\", \"review_text\"]]\n",
    "test_df.head()"
   ]
  },
  {
   "cell_type": "code",
   "execution_count": 4,
   "id": "591c143e-0dca-4d3e-9bd7-1f4b3cce41cd",
   "metadata": {},
   "outputs": [
    {
     "data": {
      "text/plain": [
       "array([[ 8806.,  6285.],\n",
       "       [ 8806.,  5188.],\n",
       "       [ 8806., 12226.],\n",
       "       [ 8806.,   715.],\n",
       "       [ 8806., 10031.]])"
      ]
     },
     "execution_count": 4,
     "metadata": {},
     "output_type": "execute_result"
    }
   ],
   "source": [
    "enc = joblib.load('models/label_encoder.joblib')\n",
    "\n",
    "encodings = enc.transform(test_df[[\"user_id\", \"book_id\"]])\n",
    "\n",
    "# add 1 to X_train, so unknowns would be 0\n",
    "encodings = encodings + 1\n",
    "\n",
    "encodings[:5, :]"
   ]
  },
  {
   "cell_type": "code",
   "execution_count": 5,
   "id": "c7c5a3eb-7283-4030-a766-074876020ab3",
   "metadata": {},
   "outputs": [
    {
     "data": {
      "text/html": [
       "<div>\n",
       "<style scoped>\n",
       "    .dataframe tbody tr th:only-of-type {\n",
       "        vertical-align: middle;\n",
       "    }\n",
       "\n",
       "    .dataframe tbody tr th {\n",
       "        vertical-align: top;\n",
       "    }\n",
       "\n",
       "    .dataframe thead th {\n",
       "        text-align: right;\n",
       "    }\n",
       "</style>\n",
       "<table border=\"1\" class=\"dataframe\">\n",
       "  <thead>\n",
       "    <tr style=\"text-align: right;\">\n",
       "      <th></th>\n",
       "      <th>user_id</th>\n",
       "      <th>book_id</th>\n",
       "      <th>review_text</th>\n",
       "    </tr>\n",
       "  </thead>\n",
       "  <tbody>\n",
       "    <tr>\n",
       "      <th>0</th>\n",
       "      <td>8806</td>\n",
       "      <td>6285</td>\n",
       "      <td>** spoiler alert ** \\n This is definitely one ...</td>\n",
       "    </tr>\n",
       "    <tr>\n",
       "      <th>1</th>\n",
       "      <td>8806</td>\n",
       "      <td>5188</td>\n",
       "      <td>** spoiler alert ** \\n \"You are what you drink...</td>\n",
       "    </tr>\n",
       "    <tr>\n",
       "      <th>2</th>\n",
       "      <td>8806</td>\n",
       "      <td>12226</td>\n",
       "      <td>Roar is one of my favorite characters in Under...</td>\n",
       "    </tr>\n",
       "    <tr>\n",
       "      <th>3</th>\n",
       "      <td>8806</td>\n",
       "      <td>715</td>\n",
       "      <td>** spoiler alert ** \\n If you feel like travel...</td>\n",
       "    </tr>\n",
       "    <tr>\n",
       "      <th>4</th>\n",
       "      <td>8806</td>\n",
       "      <td>10031</td>\n",
       "      <td>3.5 stars \\n I read and enjoyed the first two ...</td>\n",
       "    </tr>\n",
       "  </tbody>\n",
       "</table>\n",
       "</div>"
      ],
      "text/plain": [
       "   user_id  book_id                                        review_text\n",
       "0     8806     6285  ** spoiler alert ** \\n This is definitely one ...\n",
       "1     8806     5188  ** spoiler alert ** \\n \"You are what you drink...\n",
       "2     8806    12226  Roar is one of my favorite characters in Under...\n",
       "3     8806      715  ** spoiler alert ** \\n If you feel like travel...\n",
       "4     8806    10031  3.5 stars \\n I read and enjoyed the first two ..."
      ]
     },
     "execution_count": 5,
     "metadata": {},
     "output_type": "execute_result"
    }
   ],
   "source": [
    "test_df[\"user_id\"] = encodings[:, 0].astype(int)\n",
    "test_df[\"book_id\"] = encodings[:, 1].astype(int)\n",
    "test_df.head()"
   ]
  },
  {
   "cell_type": "code",
   "execution_count": 6,
   "id": "7a26553c-d20e-4312-a1e8-a671661b7fe5",
   "metadata": {},
   "outputs": [],
   "source": [
    "transformer_model_name = \"distilbert-base-uncased\""
   ]
  },
  {
   "cell_type": "code",
   "execution_count": 7,
   "id": "10aebaed-7bfb-412c-ac05-29540dea5f4f",
   "metadata": {},
   "outputs": [],
   "source": [
    "def get_test_dl(batch_size):\n",
    "    test_ds = Dataset.from_pandas(test_df)\n",
    "\n",
    "    dataset = DatasetDict()\n",
    "    dataset[\"test\"] = test_ds\n",
    "    dataset\n",
    "\n",
    "    tokenizer = AutoTokenizer.from_pretrained(\"models/tokenizer/\")\n",
    "\n",
    "    def tokenize_func(dataset, col=\"review_text\"):\n",
    "            return tokenizer(dataset[col], padding=\"max_length\", truncation=True)\n",
    "\n",
    "    tokenized_datasets = dataset.map(tokenize_func, batched=True)\n",
    "\n",
    "    tokenized_datasets = tokenized_datasets.remove_columns(\n",
    "        [\"review_text\"])\n",
    "    tokenized_datasets.set_format(\"torch\")\n",
    "\n",
    "    test_dl = DataLoader(tokenized_datasets[\"test\"],\n",
    "                         shuffle=False,\n",
    "                         batch_size=batch_size)\n",
    "    return test_dl"
   ]
  },
  {
   "cell_type": "code",
   "execution_count": 8,
   "id": "b19b4a20-5450-4e02-909f-5e65f55b8850",
   "metadata": {},
   "outputs": [],
   "source": [
    "class CombinedModel(nn.Module, PyTorchModelHubMixin):\n",
    "    def __init__(self, n_users, n_books, transformer_model_name,\n",
    "                 n_factors=50, n_classes=6):\n",
    "        super().__init__()\n",
    "        self.user_embs = nn.Embedding(n_users, n_factors)\n",
    "        self.book_embs = nn.Embedding(n_books, n_factors)\n",
    "        self.text_transformer = AutoModelForSequenceClassification.from_pretrained(\n",
    "            transformer_model_name, num_labels=n_classes)\n",
    "        self.linear_layers = nn.Sequential(\n",
    "            nn.Linear(n_factors*2, n_classes, bias=True),\n",
    "            nn.LeakyReLU(),\n",
    "        )\n",
    "        \n",
    "    def forward(self, user_id=None, book_id=None,\n",
    "                input_ids=None, attention_mask=None, labels=None):\n",
    "        # first col: users, second col: books\n",
    "        x_users = self.user_embs(user_id)\n",
    "        x_books = self.book_embs(book_id)\n",
    "        x_collab = torch.cat([x_users, x_books], dim=-1)\n",
    "        x_transformer = self.text_transformer(input_ids=input_ids,\n",
    "                                              attention_mask=attention_mask).logits\n",
    "        \n",
    "        logits =  self.linear_layers(x_collab) + x_transformer\n",
    "        \n",
    "        if labels is not None:\n",
    "            loss = cross_entropy(logits, labels)\n",
    "            return {\"loss\": loss, \"logits\": logits}\n",
    "        \n",
    "        return {\"logits\": logits}"
   ]
  },
  {
   "cell_type": "code",
   "execution_count": 9,
   "id": "5439c56c-1274-4c91-af1f-b57f17dcc4f8",
   "metadata": {},
   "outputs": [],
   "source": [
    "def get_model():\n",
    "    return CombinedModel.from_pretrained(\"models/combined_v3/\",\n",
    "                                         n_users=12189,\n",
    "                                         n_books=25475,\n",
    "                                         transformer_model_name=\"distilbert-base-uncased\")"
   ]
  },
  {
   "cell_type": "code",
   "execution_count": 10,
   "id": "a1f82775-6e68-4c28-ae79-e5bf2e6cf90d",
   "metadata": {},
   "outputs": [],
   "source": [
    "def test_loop(batch_size=256, seed=0):\n",
    "    model = get_model()\n",
    "    model.to(device)\n",
    "    test_dl = get_test_dl(batch_size)\n",
    "    \n",
    "    progress_bar = tqdm(range(len(test_dl)))\n",
    "\n",
    "    model.eval()\n",
    "    preds = []\n",
    "    for batch in test_dl:\n",
    "        batch = {k: v.to(device) for k, v in batch.items()}\n",
    "        with torch.no_grad():\n",
    "            outputs = model(**batch)\n",
    "        logits = outputs[\"logits\"]\n",
    "        predictions = torch.argmax(logits, dim=-1)\n",
    "        preds.append(predictions)\n",
    "        progress_bar.update(1)\n",
    "        \n",
    "    return preds"
   ]
  },
  {
   "cell_type": "code",
   "execution_count": 11,
   "id": "9c969452-4131-4abd-bbef-d7cba551d6cd",
   "metadata": {},
   "outputs": [
    {
     "name": "stderr",
     "output_type": "stream",
     "text": [
      "config.json not found in /home/ubuntu/mnt/github/goodreads/models/combined_v3\n"
     ]
    },
    {
     "name": "stdout",
     "output_type": "stream",
     "text": [
      "Loading weights from local directory\n"
     ]
    },
    {
     "name": "stderr",
     "output_type": "stream",
     "text": [
      "Some weights of the model checkpoint at distilbert-base-uncased were not used when initializing DistilBertForSequenceClassification: ['vocab_layer_norm.weight', 'vocab_layer_norm.bias', 'vocab_transform.weight', 'vocab_projector.weight', 'vocab_transform.bias', 'vocab_projector.bias']\n",
      "- This IS expected if you are initializing DistilBertForSequenceClassification from the checkpoint of a model trained on another task or with another architecture (e.g. initializing a BertForSequenceClassification model from a BertForPreTraining model).\n",
      "- This IS NOT expected if you are initializing DistilBertForSequenceClassification from the checkpoint of a model that you expect to be exactly identical (initializing a BertForSequenceClassification model from a BertForSequenceClassification model).\n",
      "Some weights of DistilBertForSequenceClassification were not initialized from the model checkpoint at distilbert-base-uncased and are newly initialized: ['pre_classifier.weight', 'classifier.weight', 'classifier.bias', 'pre_classifier.bias']\n",
      "You should probably TRAIN this model on a down-stream task to be able to use it for predictions and inference.\n"
     ]
    },
    {
     "data": {
      "application/vnd.jupyter.widget-view+json": {
       "model_id": "0e6f0de606c94aa1b6212768781c6015",
       "version_major": 2,
       "version_minor": 0
      },
      "text/plain": [
       "  0%|          | 0/479 [00:00<?, ?ba/s]"
      ]
     },
     "metadata": {},
     "output_type": "display_data"
    },
    {
     "data": {
      "application/vnd.jupyter.widget-view+json": {
       "model_id": "8d388634ab0e4b24915cfe2d18abd306",
       "version_major": 2,
       "version_minor": 0
      },
      "text/plain": [
       "  0%|          | 0/1868 [00:00<?, ?it/s]"
      ]
     },
     "metadata": {},
     "output_type": "display_data"
    }
   ],
   "source": [
    "preds = test_loop()"
   ]
  },
  {
   "cell_type": "code",
   "execution_count": 15,
   "id": "a526f598-86a8-4104-aef5-3a12e2a4ade5",
   "metadata": {},
   "outputs": [
    {
     "data": {
      "text/plain": [
       "478033"
      ]
     },
     "execution_count": 15,
     "metadata": {},
     "output_type": "execute_result"
    }
   ],
   "source": [
    "preds\n",
    "len(preds)"
   ]
  },
  {
   "cell_type": "code",
   "execution_count": 16,
   "id": "21f7dda7-5eff-4efd-a0a6-c553a211ba99",
   "metadata": {},
   "outputs": [
    {
     "data": {
      "text/plain": [
       "(478033, 2)"
      ]
     },
     "execution_count": 16,
     "metadata": {},
     "output_type": "execute_result"
    }
   ],
   "source": [
    "sub = pd.read_csv(\"data/goodreads_sample_submission.csv\")\n",
    "sub.shape"
   ]
  },
  {
   "cell_type": "code",
   "execution_count": 17,
   "id": "ea9b4b79-e4b2-4e3c-8416-ac65b393bfd2",
   "metadata": {},
   "outputs": [
    {
     "data": {
      "text/plain": [
       "<AxesSubplot: ylabel='Frequency'>"
      ]
     },
     "execution_count": 17,
     "metadata": {},
     "output_type": "execute_result"
    },
    {
     "data": {
      "image/png": "[encoded data removed]",
      "text/plain": [
       "<Figure size 640x480 with 1 Axes>"
      ]
     },
     "metadata": {},
     "output_type": "display_data"
    }
   ],
   "source": [
    "sub[\"rating\"] = preds\n",
    "sub[\"rating\"] = sub[\"rating\"].astype(int)\n",
    "sub[\"rating\"].plot.hist()"
   ]
  },
  {
   "cell_type": "code",
   "execution_count": 18,
   "id": "06455858-3bd9-4178-a7ae-931e2bb310e6",
   "metadata": {},
   "outputs": [],
   "source": [
    "sub.to_csv(\"result/combined_v3_preds.csv\", index=False)"
   ]
  },
  {
   "cell_type": "code",
   "execution_count": null,
   "id": "e4779862-5fd7-473c-beeb-fdac5fed2bc5",
   "metadata": {},
   "outputs": [],
   "source": []
  }
 ],
 "metadata": {
  "kernelspec": {
   "display_name": "Python 3 (ipykernel)",
   "language": "python",
   "name": "python3"
  },
  "language_info": {
   "codemirror_mode": {
    "name": "ipython",
    "version": 3
   },
   "file_extension": ".py",
   "mimetype": "text/x-python",
   "name": "python",
   "nbconvert_exporter": "python",
   "pygments_lexer": "ipython3",
   "version": "3.9.15"
  }
 },
 "nbformat": 4,
 "nbformat_minor": 5
}
